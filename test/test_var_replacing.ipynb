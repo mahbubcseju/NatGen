{
 "cells": [
  {
   "cell_type": "code",
   "execution_count": 1,
   "metadata": {},
   "outputs": [],
   "source": [
    "import os\n",
    "import sys\n",
    "import json\n",
    "import pandas as pd"
   ]
  },
  {
   "cell_type": "code",
   "execution_count": 2,
   "metadata": {},
   "outputs": [],
   "source": [
    "import copy\n",
    "import os\n",
    "import re\n",
    "from typing import Union, Tuple\n",
    "\n",
    "import numpy as np"
   ]
  },
  {
   "cell_type": "code",
   "execution_count": 3,
   "metadata": {},
   "outputs": [],
   "source": [
    "def add_path(path):\n",
    "    if path not in sys.path:\n",
    "        sys.path.append(path)"
   ]
  },
  {
   "cell_type": "code",
   "execution_count": 4,
   "metadata": {},
   "outputs": [
    {
     "data": {
      "text/plain": [
       "'/home/mdrahman/projects/'"
      ]
     },
     "execution_count": 4,
     "metadata": {},
     "output_type": "execute_result"
    }
   ],
   "source": [
    "root = os.getcwd().split(\"NatGen\")[0]\n",
    "root"
   ]
  },
  {
   "cell_type": "code",
   "execution_count": 5,
   "metadata": {},
   "outputs": [],
   "source": [
    "add_path(f\"{root}NatGen\")"
   ]
  },
  {
   "cell_type": "code",
   "execution_count": 6,
   "metadata": {},
   "outputs": [],
   "source": [
    "from src.data_preprocessors import *\n",
    "\n",
    "from src.data_preprocessors.language_processors import JavaAndCPPProcessor\n",
    "from src.data_preprocessors.transformations.transformation_base import TransformationBase\n",
    "\n",
    "language = 'c'\n",
    "parser_path = root + '/NatGen/parser/languages.so'\n"
   ]
  },
  {
   "cell_type": "code",
   "execution_count": 7,
   "metadata": {},
   "outputs": [],
   "source": [
    "transformer = VarReplacer(parser_path, language, \"\", 1)"
   ]
  },
  {
   "cell_type": "code",
   "execution_count": 8,
   "metadata": {},
   "outputs": [],
   "source": [
    "c_code = \"\"\"\n",
    "#include<stdio.h>\n",
    "#define y  9\n",
    "int process(int option, int a, int b) {\n",
    "    int *x;\n",
    "    int k = a + b;\n",
    "    int result = k;\n",
    "\n",
    "    if (b != 0) {\n",
    "        result = a / b;\n",
    "    } else if(a < 0) result = -a /b;\n",
    "    else if (b == 5) result = 2;\n",
    "    else if (k == 2) result = 0;\n",
    "    else {\n",
    "        printf(\"Error: Division by zero is undefined.\\n\");\n",
    "        return -1;  // Return an error code\n",
    "    }\n",
    "    switch (option) {\n",
    "        case 1:\n",
    "            result = a + b * c;\n",
    "            break;\n",
    "        case 2:\n",
    "            result = ((a + b) - c);\n",
    "            break;\n",
    "        case 3:\n",
    "            result = a * c;\n",
    "            break;\n",
    "        default:\n",
    "\n",
    "            if (b != 0) {\n",
    "                result = a / b;\n",
    "            } else if(a < 0) result = -a /b;\n",
    "            else if (b == 5) result = 2;\n",
    "            else if (k == 2) result = 0;\n",
    "            else {\n",
    "                printf(\"Error: Division by zero is undefined.\\n\");\n",
    "                return -1;  // Return an error code\n",
    "            }\n",
    "            printf(\"Error: Invalid option. Please choose a valid option (1-4).\\n\");\n",
    "            return -1;  // Return an error code\n",
    "    }\n",
    "    \n",
    "    return result;\n",
    "}\n",
    "\"\"\""
   ]
  },
  {
   "cell_type": "code",
   "execution_count": 9,
   "metadata": {},
   "outputs": [],
   "source": [
    "d_code = \"\"\"\n",
    "int main() {\n",
    "    int abra = 10;\n",
    "    int debra = 20;\n",
    "}\n",
    "\"\"\""
   ]
  },
  {
   "cell_type": "code",
   "execution_count": 12,
   "metadata": {},
   "outputs": [],
   "source": [
    "var_names = transformer.get_var_names(d_code)"
   ]
  },
  {
   "cell_type": "code",
   "execution_count": 15,
   "metadata": {},
   "outputs": [
    {
     "data": {
      "text/plain": [
       "('#include <stdio.h> #define y 9 int process ( int debra , int abra , int b ) { int * x ; int k = abra + b ; int result = k ; if ( b != 0 ) { result = abra / b ; } else if ( abra < 0 ) result = - abra / b ; else if ( b == 5 ) result = 2 ; else if ( k == 2 ) result = 0 ; else { printf ( \"Error: Division by zero is undefined. \" ) ; return -1 ; } switch ( debra ) { case 1 : result = abra + b * c ; break ; case 2 : result = ( ( abra + b ) - c ) ; break ; case 3 : result = abra * c ; break ; default : if ( b != 0 ) { result = abra / b ; } else if ( abra < 0 ) result = - abra / b ; else if ( b == 5 ) result = 2 ; else if ( k == 2 ) result = 0 ; else { printf ( \"Error: Division by zero is undefined. \" ) ; return -1 ; } printf ( \"Error: Invalid option. Please choose a valid option (1-4). \" ) ; return -1 ; } return result ; }',\n",
       " {'success': True})"
      ]
     },
     "execution_count": 15,
     "metadata": {},
     "output_type": "execute_result"
    }
   ],
   "source": [
    "transformer.transform_code(c_code, var_names)"
   ]
  },
  {
   "cell_type": "code",
   "execution_count": null,
   "metadata": {},
   "outputs": [],
   "source": []
  }
 ],
 "metadata": {
  "kernelspec": {
   "display_name": "ml",
   "language": "python",
   "name": "python3"
  },
  "language_info": {
   "codemirror_mode": {
    "name": "ipython",
    "version": 3
   },
   "file_extension": ".py",
   "mimetype": "text/x-python",
   "name": "python",
   "nbconvert_exporter": "python",
   "pygments_lexer": "ipython3",
   "version": "3.8.16"
  },
  "orig_nbformat": 4
 },
 "nbformat": 4,
 "nbformat_minor": 2
}
