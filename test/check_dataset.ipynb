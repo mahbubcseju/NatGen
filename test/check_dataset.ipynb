{
 "cells": [
  {
   "cell_type": "code",
   "execution_count": 8,
   "metadata": {},
   "outputs": [],
   "source": [
    "import os\n",
    "import json\n",
    "import pandas as pd"
   ]
  },
  {
   "cell_type": "code",
   "execution_count": 9,
   "metadata": {},
   "outputs": [],
   "source": [
    "def add_path(path):\n",
    "    if path not in sys.path:\n",
    "        sys.path.append(path)"
   ]
  },
  {
   "cell_type": "code",
   "execution_count": 12,
   "metadata": {},
   "outputs": [],
   "source": [
    "data_dir = os.getcwd().split(\"NatGen\")[0] + \"data/\""
   ]
  },
  {
   "cell_type": "code",
   "execution_count": 13,
   "metadata": {},
   "outputs": [],
   "source": [
    "def read_data(path):\n",
    "    f = open(path, 'r')\n",
    "    data = [json.loads(ex) for ex in f]\n",
    "    f.close()\n",
    "    return data"
   ]
  },
  {
   "cell_type": "code",
   "execution_count": 16,
   "metadata": {},
   "outputs": [],
   "source": [
    "test_data = read_data(f\"{data_dir}/Devign/test.jsonl\")"
   ]
  },
  {
   "cell_type": "code",
   "execution_count": 7,
   "metadata": {},
   "outputs": [],
   "source": [
    "# def change(func):\n",
    "#     func = func.replace(\"print\", \"func\")\n",
    "#     func = func.replace(\"error\", \"<lol>\")\n",
    "#     return func"
   ]
  },
  {
   "cell_type": "code",
   "execution_count": 9,
   "metadata": {},
   "outputs": [],
   "source": [
    "# for i in range(len(test_data)):\n",
    "#     test_data[i]['func'] = change(test_data[i]['func'])"
   ]
  },
  {
   "cell_type": "code",
   "execution_count": 10,
   "metadata": {},
   "outputs": [],
   "source": [
    "# f = open(f\"{data_dir}/Devign/test_pf_err.jsonl\", 'w')\n",
    "# f.write('\\n'.join([json.dumps(ex) for ex in test_data]))\n",
    "# f.close()"
   ]
  },
  {
   "cell_type": "code",
   "execution_count": 17,
   "metadata": {},
   "outputs": [],
   "source": [
    "root = os.getcwd().split(\"NatGen\")[0]\n",
    "language = 'c'\n",
    "parser_path = root + '/NatGen/parser/languages.so'"
   ]
  },
  {
   "cell_type": "code",
   "execution_count": 20,
   "metadata": {},
   "outputs": [],
   "source": [
    "from tree_sitter import Language, Parser\n",
    "lang_object = Language(parser_path, language)\n",
    "parser = Parser()\n",
    "parser.set_language(lang_object)"
   ]
  },
  {
   "cell_type": "code",
   "execution_count": 21,
   "metadata": {},
   "outputs": [],
   "source": [
    "def walk(root, code, flag, mp):\n",
    "    if isinstance(code, str):\n",
    "        code = code.encode()\n",
    "    if \"string\" in str(root.type):\n",
    "        return [code[root.start_byte:root.end_byte].decode()]\n",
    "    children = root.children\n",
    "\n",
    "    if len(children) == 0:\n",
    "        text = code[root.start_byte:root.end_byte].decode()\n",
    "        return [text]\n",
    "    # if \"declarataion\" in root.type:\n",
    "    #     print(root.type, code[root.start_byte:root.end_byte].decode())\n",
    "    # print(children)\n",
    "    # print(root.type, code[root.start_byte:root.end_byte].decode())\n",
    "    for child in children:\n",
    "        # if \"declaration\" in root.type:\n",
    "        print(child.type, code[child.start_byte:child.end_byte].decode())\n",
    "        # print(child)\n",
    "        # if \"binary_expression\" in root.type and len(children) == 3:\n",
    "        # #     print(\"child\", code[child.start_byte: child.end_byte].decode())\n",
    "        # else:\n",
    "    ts = []\n",
    "    nflag = flag | (1 if root.type == 'call_expression' else 0)\n",
    "    for child in children:\n",
    "        # if \"declaration\" in root.type:\n",
    "        # print(child.type, code[child.start_byte:child.end_byte].decode())\n",
    "        # print(child)\n",
    "        # if \"binary_expression\" in root.type and len(children) == 3:\n",
    "        # #     print(\"child\", code[child.start_byte: child.end_byte].decode())\n",
    "        # else:\n",
    "\n",
    "        ts += walk(child, code, nflag, mp)\n",
    "    return ts"
   ]
  },
  {
   "cell_type": "code",
   "execution_count": 22,
   "metadata": {},
   "outputs": [],
   "source": [
    "c_code = \"\"\"\n",
    "\n",
    "int process(int option, int a, int b) {\n",
    "\n",
    "    if (b != 0) {\n",
    "        result = a / b;\n",
    "    } else if(a < 0) result = -a /b;\n",
    "    else {\n",
    "        printf(\"Error: Division by zero is undefined.\\n\");\n",
    "        return -1;  // Return an error code\n",
    "    }\n",
    "    int x, y;\n",
    "    memset(x, y);\n",
    "    int k = add(4, 5);\n",
    "\n",
    "}\n",
    "\"\"\""
   ]
  },
  {
   "cell_type": "code",
   "execution_count": 23,
   "metadata": {},
   "outputs": [],
   "source": [
    "tree =parser.parse(c_code.encode())"
   ]
  },
  {
   "cell_type": "code",
   "execution_count": 44,
   "metadata": {},
   "outputs": [],
   "source": [
    "src =  \"int main()\\n{return 0;}\""
   ]
  },
  {
   "cell_type": "code",
   "execution_count": 37,
   "metadata": {},
   "outputs": [
    {
     "name": "stdout",
     "output_type": "stream",
     "text": [
      "int main() {return 0;}\n"
     ]
    }
   ],
   "source": [
    "print(src)"
   ]
  },
  {
   "cell_type": "code",
   "execution_count": 38,
   "metadata": {},
   "outputs": [],
   "source": [
    "jst = json.dump(f.)"
   ]
  },
  {
   "cell_type": "code",
   "execution_count": 39,
   "metadata": {},
   "outputs": [
    {
     "data": {
      "text/plain": [
       "'\"int main() {return 0;}\"'"
      ]
     },
     "execution_count": 39,
     "metadata": {},
     "output_type": "execute_result"
    }
   ],
   "source": [
    "jst"
   ]
  },
  {
   "cell_type": "code",
   "execution_count": 40,
   "metadata": {},
   "outputs": [],
   "source": [
    "st = json.loads(jst)"
   ]
  },
  {
   "cell_type": "code",
   "execution_count": 41,
   "metadata": {},
   "outputs": [
    {
     "data": {
      "text/plain": [
       "'int main() {return 0;}'"
      ]
     },
     "execution_count": 41,
     "metadata": {},
     "output_type": "execute_result"
    }
   ],
   "source": [
    "st"
   ]
  },
  {
   "cell_type": "code",
   "execution_count": 5,
   "metadata": {},
   "outputs": [],
   "source": [
    "# def get_diff(split):\n",
    "#     mixed = f\"{data_dir}mixed/{split}.jsonl\"\n",
    "#     msr = f\"{data_dir}/MSR/{split}.jsonl\"\n",
    "\n",
    "#     mixed_data = read_data(mixed)\n",
    "#     msr_data = read_data(msr)\n",
    "    \n",
    "#     id_dict = {}\n",
    "#     for ex in mixed_data:\n",
    "#         id_dict[ex['idx']] = 1\n",
    "    \n",
    "#     found = 0\n",
    "#     for ex in msr_data:\n",
    "#         if ex['idx'] in id_dict:\n",
    "#             found += 1\n",
    "    \n",
    "#     print(f\"Total data in msr: {len(msr_data)}, Found: {found}, Not Found: {len(msr_data) - found}\")\n",
    "#     print(f\"Total data in mixed: {len(mixed_data)}\")\n"
   ]
  },
  {
   "cell_type": "code",
   "execution_count": 6,
   "metadata": {},
   "outputs": [],
   "source": [
    "# for split in ('train', 'test', 'valid'):\n",
    "#     print(\"** Split **\")\n",
    "#     get_diff(split)"
   ]
  },
  {
   "cell_type": "code",
   "execution_count": 7,
   "metadata": {},
   "outputs": [],
   "source": [
    "# mixed_data = []\n",
    "# msr_data = []\n",
    "# for split in ('train', 'test', 'valid'):\n",
    "#     mixed = f\"{data_dir}mixed/{split}.jsonl\"\n",
    "#     msr = f\"{data_dir}/MSR/{split}.jsonl\"\n",
    "#     mixed_data.extend(read_data(mixed))\n",
    "#     msr_data.extend(read_data(msr))\n",
    "\n",
    "# id_dict = {}\n",
    "# for ex in mixed_data:\n",
    "#     id_dict[ex['idx']] = 1\n",
    "\n",
    "# found = 0\n",
    "# for ex in msr_data:\n",
    "#     if ex['idx'] in id_dict:\n",
    "#         found += 1\n",
    "\n",
    "# print(f\"Total data in msr: {len(msr_data)}, Found: {found}, Not Found: {len(msr_data) - found}\")\n",
    "# print(f\"Total data in mixed: {len(mixed_data)}\")"
   ]
  },
  {
   "cell_type": "code",
   "execution_count": 8,
   "metadata": {},
   "outputs": [],
   "source": [
    "train_data = read_data(f\"{data_dir}/mixed_ood/train_sp.jsonl\")\n",
    "test_data = read_data(f\"{data_dir}/mixed_ood/test_sp.jsonl\")\n",
    "val_data = read_data(f\"{data_dir}/mixed_ood/valid_sp.jsonl\")\n"
   ]
  },
  {
   "cell_type": "code",
   "execution_count": null,
   "metadata": {},
   "outputs": [],
   "source": []
  }
 ],
 "metadata": {
  "kernelspec": {
   "display_name": "explan",
   "language": "python",
   "name": "python3"
  },
  "language_info": {
   "codemirror_mode": {
    "name": "ipython",
    "version": 3
   },
   "file_extension": ".py",
   "mimetype": "text/x-python",
   "name": "python",
   "nbconvert_exporter": "python",
   "pygments_lexer": "ipython3",
   "version": "3.8.16"
  },
  "orig_nbformat": 4,
  "vscode": {
   "interpreter": {
    "hash": "2cc6f8c7f2f5ddd8caad7224bb1eb7173d4592e6b0dd24657a2ed7e2c6d0d8b8"
   }
  }
 },
 "nbformat": 4,
 "nbformat_minor": 2
}
